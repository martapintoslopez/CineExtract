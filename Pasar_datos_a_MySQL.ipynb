{
 "cells": [
  {
   "cell_type": "code",
   "execution_count": 1,
   "metadata": {},
   "outputs": [
    {
     "name": "stdout",
     "output_type": "stream",
     "text": [
      "Requirement already satisfied: mysql-connector-python in /Users/marta/anaconda3/envs/adalabenv/lib/python3.10/site-packages (8.2.0)\n",
      "Requirement already satisfied: protobuf<=4.21.12,>=4.21.1 in /Users/marta/anaconda3/envs/adalabenv/lib/python3.10/site-packages (from mysql-connector-python) (4.21.12)\n",
      "Requirement already satisfied: mysql-connector in /Users/marta/anaconda3/envs/adalabenv/lib/python3.10/site-packages (2.2.9)\n"
     ]
    }
   ],
   "source": [
    "#!pip install mysql-connector-python\n",
    "#!pip install mysql-connector"
   ]
  },
  {
   "cell_type": "code",
   "execution_count": 66,
   "metadata": {},
   "outputs": [],
   "source": [
    "import pandas as pd"
   ]
  },
  {
   "cell_type": "code",
   "execution_count": 67,
   "metadata": {},
   "outputs": [
    {
     "data": {
      "text/html": [
       "<div>\n",
       "<style scoped>\n",
       "    .dataframe tbody tr th:only-of-type {\n",
       "        vertical-align: middle;\n",
       "    }\n",
       "\n",
       "    .dataframe tbody tr th {\n",
       "        vertical-align: top;\n",
       "    }\n",
       "\n",
       "    .dataframe thead th {\n",
       "        text-align: right;\n",
       "    }\n",
       "</style>\n",
       "<table border=\"1\" class=\"dataframe\">\n",
       "  <thead>\n",
       "    <tr style=\"text-align: right;\">\n",
       "      <th></th>\n",
       "      <th>Fecha de la ceremonia</th>\n",
       "      <th>Mejor película</th>\n",
       "      <th>Mejor director</th>\n",
       "      <th>Mejor actor</th>\n",
       "      <th>Mejor actriz</th>\n",
       "    </tr>\n",
       "  </thead>\n",
       "  <tbody>\n",
       "    <tr>\n",
       "      <th>0</th>\n",
       "      <td>1990</td>\n",
       "      <td>Driving Miss Daisy</td>\n",
       "      <td>O. Stone</td>\n",
       "      <td>D. Day-Lewis</td>\n",
       "      <td>J. Tandy</td>\n",
       "    </tr>\n",
       "    <tr>\n",
       "      <th>1</th>\n",
       "      <td>1991</td>\n",
       "      <td>Dances with Wolves</td>\n",
       "      <td>K. Costner</td>\n",
       "      <td>J. Irons</td>\n",
       "      <td>K. Bates</td>\n",
       "    </tr>\n",
       "    <tr>\n",
       "      <th>2</th>\n",
       "      <td>1992</td>\n",
       "      <td>The Silence of the Lambs</td>\n",
       "      <td>J. Demme</td>\n",
       "      <td>A. Hopkins</td>\n",
       "      <td>J. Foster</td>\n",
       "    </tr>\n",
       "    <tr>\n",
       "      <th>3</th>\n",
       "      <td>1993</td>\n",
       "      <td>Unforgiven</td>\n",
       "      <td>C. Eastwood</td>\n",
       "      <td>A. Pacino</td>\n",
       "      <td>E. Thompson</td>\n",
       "    </tr>\n",
       "    <tr>\n",
       "      <th>4</th>\n",
       "      <td>1994</td>\n",
       "      <td>Schindler's List</td>\n",
       "      <td>S. Spielberg</td>\n",
       "      <td>T. Hanks</td>\n",
       "      <td>H. Hunter</td>\n",
       "    </tr>\n",
       "  </tbody>\n",
       "</table>\n",
       "</div>"
      ],
      "text/plain": [
       "   Fecha de la ceremonia             Mejor película Mejor director  \\\n",
       "0                   1990         Driving Miss Daisy       O. Stone   \n",
       "1                   1991         Dances with Wolves     K. Costner   \n",
       "2                   1992   The Silence of the Lambs       J. Demme   \n",
       "3                   1993                 Unforgiven    C. Eastwood   \n",
       "4                   1994           Schindler's List   S. Spielberg   \n",
       "\n",
       "     Mejor actor  Mejor actriz  \n",
       "0   D. Day-Lewis      J. Tandy  \n",
       "1       J. Irons      K. Bates  \n",
       "2     A. Hopkins     J. Foster  \n",
       "3      A. Pacino   E. Thompson  \n",
       "4       T. Hanks     H. Hunter  "
      ]
     },
     "execution_count": 67,
     "metadata": {},
     "output_type": "execute_result"
    }
   ],
   "source": [
    "df_premios = pd.read_csv(\"4.PREMIOS_OSCAR.csv\", index_col = 0)\n",
    "df_premios.head()"
   ]
  },
  {
   "cell_type": "code",
   "execution_count": 68,
   "metadata": {},
   "outputs": [
    {
     "data": {
      "text/plain": [
       "[(1990, ' Driving Miss Daisy', ' O. Stone', ' D. Day-Lewis', ' J. Tandy'),\n",
       " (1991, ' Dances with Wolves', ' K. Costner', ' J. Irons', ' K. Bates'),\n",
       " (1992, ' The Silence of the Lambs', ' J. Demme', ' A. Hopkins', ' J. Foster'),\n",
       " (1993, ' Unforgiven', ' C. Eastwood', '  A. Pacino', ' E. Thompson'),\n",
       " (1994, \" Schindler's List\", ' S. Spielberg', ' T. Hanks', ' H. Hunter'),\n",
       " (1995, ' Forrest Gump', ' R. Zemeckis', ' T. Hanks', ' J. Lange'),\n",
       " (1996, '  Braveheart', ' M. Gibson', ' N. Cage', ' S. Sarandon'),\n",
       " (1997, ' The English Patient', ' A. Minghella', ' G. Rush', ' F. McDormand'),\n",
       " (1998, 'Titanic', ' J. Cameron', ' J. Nicholson', ' H. Hunt'),\n",
       " (1999, ' Shakespeare in Love', ' S. Spielberg', ' R. Benigni', ' G. Paltrow'),\n",
       " (2000, ' American Beauty', ' S. Mendes', ' K. Spacey', ' H. Swank'),\n",
       " (2001, ' Gladiator', ' S. Soderbergh', ' R. Crowe', ' J. Roberts'),\n",
       " (2002, ' A Beautiful Mind', ' R. Howard', ' D. Washington', ' H. Berry'),\n",
       " (2003, ' Chicago', ' R. Polanski', ' A. Brody', '  N. Kidman'),\n",
       " (2004,\n",
       "  ' The Lord of the Rings: The Return of the King',\n",
       "  ' P. Jackson',\n",
       "  ' S. Penn',\n",
       "  ' C. Theron'),\n",
       " (2005, ' Million Dollar Baby', ' C. Eastwood', ' J. Foxx', ' H. Swank'),\n",
       " (2006, ' Crash', ' A. Lee', ' P. S. Hoffman', ' R. Witherspoon'),\n",
       " (2007, ' The Departed', ' M. Scorsese', ' F. Whitaker', ' H. Mirren'),\n",
       " (2008,\n",
       "  ' No Country for Old Men',\n",
       "  ' J. Coen E. Coen',\n",
       "  ' D. Day-Lewis',\n",
       "  ' M. Cotillard'),\n",
       " (2009, '  Slumdog Millionaire', ' D. Boyle', ' S. Penn', ' K. Winslet'),\n",
       " (2010, ' The Hurt Locker', ' K. Bigelow', ' J. Bridges', ' S. Bullock'),\n",
       " (2011, \" The King's Speech\", ' T. Hooper', ' C. Firth', '  N. Portman'),\n",
       " (2012, ' The Artist', ' M. Hazanavicius', ' J. Dujardin', ' M. Streep'),\n",
       " (2013, ' Argo', ' A. Lee', ' D. Day-Lewis', ' J. Lawrence'),\n",
       " (2014,\n",
       "  '  12 Years a Slave',\n",
       "  ' A. Cuarón',\n",
       "  ' M. McConaughey',\n",
       "  ' C. Blanchett'),\n",
       " (2015, ' Birdman or ', ' A. G. Iñárritu', ' E. Redmayne', ' J.Moore'),\n",
       " (2016, ' Spotlight', ' A. G. Iñárritu', ' L. DiCaprio', ' B. Larson'),\n",
       " (2017, ' Moonlight', '  D. Chazelle', ' C. Affleck', ' E. Stone'),\n",
       " (2018, ' The Shape of Water', ' G. del Toro', ' G. Oldman', ' F. McDormand'),\n",
       " (2019, ' Green Book', ' A. Cuarón', '  R. Malek', ' O. Colman'),\n",
       " (2020, ' Parasite', ' Bong J.', '  J. Phoenix', ' R. Zellweger'),\n",
       " (2021, ' Nomadland', ' C. Zhao', ' A. Hopkins', ' F. McDormand'),\n",
       " (2022, '  CODA', ' J. Campion', ' W. Smith', ' J. Chastain'),\n",
       " (2023,\n",
       "  ' Everything Everywhere All at Once',\n",
       "  ' D. Kwan D. Scheinert',\n",
       "  ' B. Fraser',\n",
       "  ' M. Yeoh')]"
      ]
     },
     "execution_count": 68,
     "metadata": {},
     "output_type": "execute_result"
    }
   ],
   "source": [
    "lista_tuplas_premios = [tuple(x) for x in df_premios.values]\n",
    "lista_tuplas_premios"
   ]
  },
  {
   "cell_type": "code",
   "execution_count": null,
   "metadata": {},
   "outputs": [],
   "source": [
    "# nuevo_orden = [\"2\", \"1\", \"0\", \"3\", \"4\"]\n",
    "# df_pelis = df_peli.reindex(columns = nuevo_orden)"
   ]
  },
  {
   "cell_type": "markdown",
   "metadata": {},
   "source": [
    "# Forma 1 (menos correcta)"
   ]
  },
  {
   "cell_type": "code",
   "execution_count": null,
   "metadata": {},
   "outputs": [],
   "source": [
    "print(\"INSERT INTO peliculas VALUES\")\n",
    "for peli in lista_tuplas_pelis:\n",
    "    print(peli, \",\")\n"
   ]
  },
  {
   "cell_type": "markdown",
   "metadata": {},
   "source": [
    "# Forma 2 (más correcta)"
   ]
  },
  {
   "cell_type": "code",
   "execution_count": 69,
   "metadata": {},
   "outputs": [],
   "source": [
    "import mysql.connector\n",
    "from mysql.connector import errorcode"
   ]
  },
  {
   "cell_type": "code",
   "execution_count": 70,
   "metadata": {},
   "outputs": [
    {
     "name": "stdout",
     "output_type": "stream",
     "text": [
      "34 registros insertados\n"
     ]
    }
   ],
   "source": [
    "cnx = mysql.connector.connect(user = \"root\",\n",
    "                              password = \"AlumnaAdalab\",\n",
    "                              host = \"127.0.0.1\",\n",
    "                              database = \"NETCHILL\")#Nuesta base de datos de mysql\n",
    "#Nos permite enviar informacion atraves de la conexciosm\n",
    "mycursor = cnx.cursor()\n",
    "\n",
    "\n",
    "#Escribimos la query aqui\n",
    "#¡¡¡El ORDEN IMPORTA!!! --> El primer dato debe ser el primer elemento de la lista de tuplas\n",
    "sql_pelis = \"INSERT INTO Premios (fecha_celebracion, mejor_pelicula, mejor_director, mejor_actor, mejor_actriz) VALUES (%s, %s, %s, %s,%s)\" \n",
    "                        #peliculas el nombre del archivo correspondiente\n",
    "try:\n",
    "    mycursor.executemany(sql_pelis, lista_tuplas_premios)\n",
    "    cnx.commit()\n",
    "    print(mycursor.rowcount,\"registros insertados\")\n",
    "except:\n",
    "    print(\"Ha habido un error en la inserción\")"
   ]
  },
  {
   "cell_type": "code",
   "execution_count": null,
   "metadata": {},
   "outputs": [],
   "source": [
    "#!pip install xlrd"
   ]
  },
  {
   "cell_type": "code",
   "execution_count": null,
   "metadata": {},
   "outputs": [],
   "source": [
    "#!pip install openpyxl"
   ]
  },
  {
   "cell_type": "code",
   "execution_count": 71,
   "metadata": {},
   "outputs": [],
   "source": [
    "import openpyxl"
   ]
  },
  {
   "cell_type": "code",
   "execution_count": 39,
   "metadata": {},
   "outputs": [],
   "source": [
    "cnx.close()"
   ]
  },
  {
   "cell_type": "code",
   "execution_count": 72,
   "metadata": {},
   "outputs": [
    {
     "data": {
      "text/html": [
       "<div>\n",
       "<style scoped>\n",
       "    .dataframe tbody tr th:only-of-type {\n",
       "        vertical-align: middle;\n",
       "    }\n",
       "\n",
       "    .dataframe tbody tr th {\n",
       "        vertical-align: top;\n",
       "    }\n",
       "\n",
       "    .dataframe thead th {\n",
       "        text-align: right;\n",
       "    }\n",
       "</style>\n",
       "<table border=\"1\" class=\"dataframe\">\n",
       "  <thead>\n",
       "    <tr style=\"text-align: right;\">\n",
       "      <th></th>\n",
       "      <th>Genero</th>\n",
       "      <th>Tipo</th>\n",
       "      <th>Nombre</th>\n",
       "      <th>Id</th>\n",
       "      <th>Mes</th>\n",
       "      <th>Ano</th>\n",
       "    </tr>\n",
       "  </thead>\n",
       "  <tbody>\n",
       "    <tr>\n",
       "      <th>0</th>\n",
       "      <td>Action</td>\n",
       "      <td>Movie</td>\n",
       "      <td>Spy Story</td>\n",
       "      <td>tt0075259</td>\n",
       "      <td>3.0</td>\n",
       "      <td>1990.0</td>\n",
       "    </tr>\n",
       "    <tr>\n",
       "      <th>1</th>\n",
       "      <td>Action</td>\n",
       "      <td>Movie</td>\n",
       "      <td>Comando terrorista</td>\n",
       "      <td>tt0090869</td>\n",
       "      <td>NaN</td>\n",
       "      <td>1990.0</td>\n",
       "    </tr>\n",
       "    <tr>\n",
       "      <th>2</th>\n",
       "      <td>Action</td>\n",
       "      <td>Movie</td>\n",
       "      <td>Dragon Hunt</td>\n",
       "      <td>tt0092926</td>\n",
       "      <td>6.0</td>\n",
       "      <td>1990.0</td>\n",
       "    </tr>\n",
       "    <tr>\n",
       "      <th>3</th>\n",
       "      <td>Action</td>\n",
       "      <td>Movie</td>\n",
       "      <td>Huang jia shi jie zhi: Zhong jian ren</td>\n",
       "      <td>tt0094376</td>\n",
       "      <td>6.0</td>\n",
       "      <td>1990.0</td>\n",
       "    </tr>\n",
       "    <tr>\n",
       "      <th>4</th>\n",
       "      <td>Action</td>\n",
       "      <td>Movie</td>\n",
       "      <td>Soldier of Fortune</td>\n",
       "      <td>tt0094004</td>\n",
       "      <td>4.0</td>\n",
       "      <td>1990.0</td>\n",
       "    </tr>\n",
       "  </tbody>\n",
       "</table>\n",
       "</div>"
      ],
      "text/plain": [
       "   Genero  Tipo                                  Nombre         Id  Mes  \\\n",
       "0  Action  Movie                              Spy Story  tt0075259  3.0   \n",
       "1  Action  Movie                     Comando terrorista  tt0090869  NaN   \n",
       "2  Action  Movie                            Dragon Hunt  tt0092926  6.0   \n",
       "3  Action  Movie  Huang jia shi jie zhi: Zhong jian ren  tt0094376  6.0   \n",
       "4  Action  Movie                     Soldier of Fortune  tt0094004  4.0   \n",
       "\n",
       "      Ano  \n",
       "0  1990.0  \n",
       "1  1990.0  \n",
       "2  1990.0  \n",
       "3  1990.0  \n",
       "4  1990.0  "
      ]
     },
     "execution_count": 72,
     "metadata": {},
     "output_type": "execute_result"
    }
   ],
   "source": [
    "df_master = pd.read_excel(\"0.TODO_GENEROS_PELIS_1990_2023_copy.xlsx\")\n",
    "df_master.head()"
   ]
  },
  {
   "cell_type": "code",
   "execution_count": 73,
   "metadata": {},
   "outputs": [
    {
     "data": {
      "text/plain": [
       "Genero         0\n",
       "Tipo           0\n",
       "Nombre         9\n",
       "Id             0\n",
       "Mes       124490\n",
       "Ano        82714\n",
       "dtype: int64"
      ]
     },
     "execution_count": 73,
     "metadata": {},
     "output_type": "execute_result"
    }
   ],
   "source": [
    "df_master.isna().sum()"
   ]
  },
  {
   "cell_type": "code",
   "execution_count": 74,
   "metadata": {},
   "outputs": [
    {
     "data": {
      "text/plain": [
       "134495"
      ]
     },
     "execution_count": 74,
     "metadata": {},
     "output_type": "execute_result"
    }
   ],
   "source": [
    "df_master.duplicated(\"Id\").sum()"
   ]
  },
  {
   "cell_type": "code",
   "execution_count": 75,
   "metadata": {},
   "outputs": [],
   "source": [
    "df_master.fillna(0, inplace= True)"
   ]
  },
  {
   "cell_type": "code",
   "execution_count": 76,
   "metadata": {},
   "outputs": [
    {
     "data": {
      "text/plain": [
       "Genero    0\n",
       "Tipo      0\n",
       "Nombre    0\n",
       "Id        0\n",
       "Mes       0\n",
       "Ano       0\n",
       "dtype: int64"
      ]
     },
     "execution_count": 76,
     "metadata": {},
     "output_type": "execute_result"
    }
   ],
   "source": [
    "df_master.isna().sum()"
   ]
  },
  {
   "cell_type": "code",
   "execution_count": 77,
   "metadata": {},
   "outputs": [],
   "source": [
    "lista_tuplas_master = [tuple(x) for x in df_master.values]"
   ]
  },
  {
   "cell_type": "code",
   "execution_count": 78,
   "metadata": {},
   "outputs": [
    {
     "name": "stdout",
     "output_type": "stream",
     "text": [
      "547650 546311\n"
     ]
    }
   ],
   "source": [
    "#Primero eliminamos duplicados convirtiendolo en set que quita los repetidos\n",
    "set(lista_tuplas_master)\n",
    "print(len(lista_tuplas_master), len(set(lista_tuplas_master)))"
   ]
  },
  {
   "cell_type": "code",
   "execution_count": 79,
   "metadata": {},
   "outputs": [],
   "source": [
    "lista_tuplas_master = list(set(lista_tuplas_master))\n",
    "#Limpiamos corchetes y comillas antes de meter en mysql\n"
   ]
  },
  {
   "cell_type": "code",
   "execution_count": 80,
   "metadata": {},
   "outputs": [
    {
     "name": "stdout",
     "output_type": "stream",
     "text": [
      "546311 registros insertados\n"
     ]
    }
   ],
   "source": [
    "cnx = mysql.connector.connect(user = \"root\",\n",
    "                              password = \"AlumnaAdalab\",\n",
    "                              host = \"127.0.0.1\",\n",
    "                              database = \"NETCHILL\")#Nuesta base de datos de mysql\n",
    "#Nos permite enviar informacion atraves de la conexciosm\n",
    "mycursor = cnx.cursor()\n",
    "\n",
    "#¡¡¡El ORDEN IMPORTA!!! --> El primer dato debe ser el primer elemento de la lista de tuplas\n",
    "sql_pelis = \"INSERT INTO MASTER (genero, tipo, titulo, id_pelicula, mes, anio) VALUES (%s, %s, %s, %s,%s, %s)\" \n",
    "                        #peliculas el nombre del archivo correspondiente\n",
    "try:\n",
    "    mycursor.executemany(sql_pelis, lista_tuplas_master)\n",
    "    cnx.commit()\n",
    "    print(mycursor.rowcount,\"registros insertados\")\n",
    "except mysql.connector.Error as err:\n",
    "\n",
    "  # si es un error con la contraseña devuelveme un mensaje de acceso denegado ya que tenemos problemas con la contraseña\n",
    "  if err.errno == errorcode.ER_ACCESS_DENIED_ERROR:\n",
    "    print(\"Something is wrong with your user name or password\")\n",
    "  \n",
    "  # si el error no tiene que ver con la contraseña, puede ser porque la base de datos no exista, devuelveme un mensaje de que la base de datos no existe\n",
    "  elif err.errno == errorcode.ER_BAD_DB_ERROR:\n",
    "    print(\"Database does not exist\")\n",
    "  \n",
    "  # si no es por ninguno de los errores anteriores, printeame cual es el error que estoy teniendo en mi conexión\n",
    "  else:\n",
    "    print(err)"
   ]
  },
  {
   "cell_type": "code",
   "execution_count": 82,
   "metadata": {},
   "outputs": [],
   "source": [
    "cnx.close()"
   ]
  },
  {
   "cell_type": "code",
   "execution_count": 83,
   "metadata": {},
   "outputs": [
    {
     "data": {
      "text/plain": [
       "('Comedy', 'Short', 'Planned Obsolescence', 'tt27780897', 5.0, 2023.0)"
      ]
     },
     "execution_count": 83,
     "metadata": {},
     "output_type": "execute_result"
    }
   ],
   "source": [
    "lista_tuplas_master[1053]"
   ]
  },
  {
   "cell_type": "code",
   "execution_count": 190,
   "metadata": {},
   "outputs": [
    {
     "data": {
      "text/html": [
       "<div>\n",
       "<style scoped>\n",
       "    .dataframe tbody tr th:only-of-type {\n",
       "        vertical-align: middle;\n",
       "    }\n",
       "\n",
       "    .dataframe tbody tr th {\n",
       "        vertical-align: top;\n",
       "    }\n",
       "\n",
       "    .dataframe thead th {\n",
       "        text-align: right;\n",
       "    }\n",
       "</style>\n",
       "<table border=\"1\" class=\"dataframe\">\n",
       "  <thead>\n",
       "    <tr style=\"text-align: right;\">\n",
       "      <th></th>\n",
       "      <th>IMDB</th>\n",
       "      <th>RT</th>\n",
       "      <th>Direccion</th>\n",
       "      <th>Guión</th>\n",
       "      <th>Argumento</th>\n",
       "      <th>Duración</th>\n",
       "      <th>Título</th>\n",
       "    </tr>\n",
       "  </thead>\n",
       "  <tbody>\n",
       "    <tr>\n",
       "      <th>0</th>\n",
       "      <td>7.9</td>\n",
       "      <td>--</td>\n",
       "      <td>Kari Paljakka</td>\n",
       "      <td>Kari Paljakka</td>\n",
       "      <td>NaN</td>\n",
       "      <td>20m</td>\n",
       "      <td>Nonstop</td>\n",
       "    </tr>\n",
       "    <tr>\n",
       "      <th>1</th>\n",
       "      <td>6.8</td>\n",
       "      <td>--</td>\n",
       "      <td>Krzysztof Kieslowski</td>\n",
       "      <td>Krzysztof Kieslowski</td>\n",
       "      <td>Seven Days a Week is truly the last documentar...</td>\n",
       "      <td>18m</td>\n",
       "      <td>Seven Days a Week - CITY LIFE - Warsaw</td>\n",
       "    </tr>\n",
       "    <tr>\n",
       "      <th>2</th>\n",
       "      <td>6.1</td>\n",
       "      <td>--</td>\n",
       "      <td>Tracey Moffatt</td>\n",
       "      <td>Tracey Moffatt</td>\n",
       "      <td>A middle aged Aboriginal woman nurses her dyin...</td>\n",
       "      <td>19m</td>\n",
       "      <td>Night Cries: A Rural Tragedy</td>\n",
       "    </tr>\n",
       "    <tr>\n",
       "      <th>3</th>\n",
       "      <td>5.6</td>\n",
       "      <td>--</td>\n",
       "      <td>Danièle HuilletJean-Marie Straub</td>\n",
       "      <td>Friedrich HölderlinDanièle HuilletJean-Marie S...</td>\n",
       "      <td>A short story based on the work of Friedrich H...</td>\n",
       "      <td>42m</td>\n",
       "      <td>Schwarze Sünde</td>\n",
       "    </tr>\n",
       "    <tr>\n",
       "      <th>4</th>\n",
       "      <td>7.1</td>\n",
       "      <td>67%</td>\n",
       "      <td>George Scribner</td>\n",
       "      <td>Gerrit GrahamSam GrahamChris Hubbell</td>\n",
       "      <td>A poor boy and a prince exchange identities an...</td>\n",
       "      <td>25m</td>\n",
       "      <td>The Prince and the Pauper</td>\n",
       "    </tr>\n",
       "  </tbody>\n",
       "</table>\n",
       "</div>"
      ],
      "text/plain": [
       "  IMDB   RT                         Direccion  \\\n",
       "0  7.9   --                     Kari Paljakka   \n",
       "1  6.8   --              Krzysztof Kieslowski   \n",
       "2  6.1   --                    Tracey Moffatt   \n",
       "3  5.6   --  Danièle HuilletJean-Marie Straub   \n",
       "4  7.1  67%                   George Scribner   \n",
       "\n",
       "                                               Guión  \\\n",
       "0                                      Kari Paljakka   \n",
       "1                               Krzysztof Kieslowski   \n",
       "2                                     Tracey Moffatt   \n",
       "3  Friedrich HölderlinDanièle HuilletJean-Marie S...   \n",
       "4               Gerrit GrahamSam GrahamChris Hubbell   \n",
       "\n",
       "                                           Argumento Duración  \\\n",
       "0                                                NaN      20m   \n",
       "1  Seven Days a Week is truly the last documentar...      18m   \n",
       "2  A middle aged Aboriginal woman nurses her dyin...      19m   \n",
       "3  A short story based on the work of Friedrich H...      42m   \n",
       "4  A poor boy and a prince exchange identities an...      25m   \n",
       "\n",
       "                                   Título  \n",
       "0                                 Nonstop  \n",
       "1  Seven Days a Week - CITY LIFE - Warsaw  \n",
       "2            Night Cries: A Rural Tragedy  \n",
       "3                          Schwarze Sünde  \n",
       "4               The Prince and the Pauper  "
      ]
     },
     "execution_count": 190,
     "metadata": {},
     "output_type": "execute_result"
    }
   ],
   "source": [
    "df_detalles = pd.read_csv(\"1.detalles_shorts_drama.csv\")\n",
    "df_detalles.drop(columns=[\"Unnamed: 0\"], inplace=True)\n",
    "df_detalles.head()"
   ]
  },
  {
   "cell_type": "code",
   "execution_count": 191,
   "metadata": {},
   "outputs": [
    {
     "data": {
      "text/plain": [
       "2"
      ]
     },
     "execution_count": 191,
     "metadata": {},
     "output_type": "execute_result"
    }
   ],
   "source": [
    "df_detalles.duplicated().sum()"
   ]
  },
  {
   "cell_type": "code",
   "execution_count": 192,
   "metadata": {},
   "outputs": [],
   "source": [
    "df_detalles.fillna(0, inplace= True)"
   ]
  },
  {
   "cell_type": "code",
   "execution_count": 193,
   "metadata": {},
   "outputs": [
    {
     "name": "stdout",
     "output_type": "stream",
     "text": [
      "680 678\n"
     ]
    }
   ],
   "source": [
    "lista_tuplas_detalles = [tuple(x) for x in df_detalles.values]\n",
    "#Primero eliminamos duplicados convirtiendolo en set que quita los repetidos\n",
    "set(lista_tuplas_detalles)\n",
    "print(len(lista_tuplas_detalles), len(set(lista_tuplas_detalles)))"
   ]
  },
  {
   "cell_type": "code",
   "execution_count": 194,
   "metadata": {},
   "outputs": [],
   "source": [
    "lista_tuplas_detalles = list(set(lista_tuplas_detalles))"
   ]
  },
  {
   "cell_type": "code",
   "execution_count": 195,
   "metadata": {},
   "outputs": [
    {
     "name": "stdout",
     "output_type": "stream",
     "text": [
      "678 registros insertados\n"
     ]
    }
   ],
   "source": [
    "#PARA QUE NO SE EJECUTE cnx = mysql.connector.connect(user = \"root\",\n",
    "                              password = \"AlumnaAdalab\",\n",
    "                              host = \"127.0.0.1\",\n",
    "                              database = \"NETCHILL\")#Nuesta base de datos de mysql\n",
    "#Nos permite enviar informacion atraves de la conexciosm\n",
    "mycursor = cnx.cursor()\n",
    "\n",
    "#¡¡¡El ORDEN IMPORTA!!! --> El primer dato debe ser el primer elemento de la lista de tuplas\n",
    "sql_pelis = \"INSERT INTO Detalles_Peliculas (IMDB, RT, direccion, guion, argumento, duracion, titulo) VALUES (%s, %s, %s, %s,%s, %s, %s)\" \n",
    "                        #peliculas el nombre del archivo correspondiente\n",
    "try:\n",
    "    mycursor.executemany(sql_pelis, lista_tuplas_detalles)\n",
    "    cnx.commit()\n",
    "    print(mycursor.rowcount,\"registros insertados\")\n",
    "except mysql.connector.Error as err:\n",
    "\n",
    "  # si es un error con la contraseña devuelveme un mensaje de acceso denegado ya que tenemos problemas con la contraseña\n",
    "  if err.errno == errorcode.ER_ACCESS_DENIED_ERROR:\n",
    "    print(\"Something is wrong with your user name or password\")\n",
    "  \n",
    "  # si el error no tiene que ver con la contraseña, puede ser porque la base de datos no exista, devuelveme un mensaje de que la base de datos no existe\n",
    "  elif err.errno == errorcode.ER_BAD_DB_ERROR:\n",
    "    print(\"Database does not exist\")\n",
    "  \n",
    "  # si no es por ninguno de los errores anteriores, printeame cual es el error que estoy teniendo en mi conexión\n",
    "  else:\n",
    "    print(err)"
   ]
  },
  {
   "cell_type": "code",
   "execution_count": 197,
   "metadata": {},
   "outputs": [
    {
     "data": {
      "text/html": [
       "<div>\n",
       "<style scoped>\n",
       "    .dataframe tbody tr th:only-of-type {\n",
       "        vertical-align: middle;\n",
       "    }\n",
       "\n",
       "    .dataframe tbody tr th {\n",
       "        vertical-align: top;\n",
       "    }\n",
       "\n",
       "    .dataframe thead th {\n",
       "        text-align: right;\n",
       "    }\n",
       "</style>\n",
       "<table border=\"1\" class=\"dataframe\">\n",
       "  <thead>\n",
       "    <tr style=\"text-align: right;\">\n",
       "      <th></th>\n",
       "      <th>nombre</th>\n",
       "      <th>nacimiento</th>\n",
       "      <th>conocido</th>\n",
       "      <th>ocupacion</th>\n",
       "      <th>premios</th>\n",
       "    </tr>\n",
       "  </thead>\n",
       "  <tbody>\n",
       "    <tr>\n",
       "      <th>0</th>\n",
       "      <td>Michael Petrovitch</td>\n",
       "      <td>1945</td>\n",
       "      <td>La banda del zoológico\\n7,5\\nSerie de TV\\nLt. ...</td>\n",
       "      <td>Reparto</td>\n",
       "      <td>no tiene Óscar</td>\n",
       "    </tr>\n",
       "    <tr>\n",
       "      <th>1</th>\n",
       "      <td>Philip Latham</td>\n",
       "      <td>1929</td>\n",
       "      <td>Drácula, príncipe de las tinieblas\\n6,6\\nKlove...</td>\n",
       "      <td>Reparto</td>\n",
       "      <td>no tiene Óscar</td>\n",
       "    </tr>\n",
       "    <tr>\n",
       "      <th>2</th>\n",
       "      <td>Don Fellows</td>\n",
       "      <td>1922</td>\n",
       "      <td>En busca del arca perdida\\n8,4\\nCol. Musgrove\\...</td>\n",
       "      <td>Reparto</td>\n",
       "      <td>no tiene Óscar</td>\n",
       "    </tr>\n",
       "    <tr>\n",
       "      <th>3</th>\n",
       "      <td>Michael Gwynn</td>\n",
       "      <td>1916</td>\n",
       "      <td>Jasón y los argonautas\\n7,3\\nHermesPriest\\n1963</td>\n",
       "      <td>Reparto</td>\n",
       "      <td>no tiene Óscar</td>\n",
       "    </tr>\n",
       "    <tr>\n",
       "      <th>4</th>\n",
       "      <td>Nicholas Parsons</td>\n",
       "      <td>1923</td>\n",
       "      <td>Happy Is the Bride\\n6,9\\nJohn Royd\\n1958</td>\n",
       "      <td>Reparto\\nDirección\\nGuion</td>\n",
       "      <td>no tiene Óscar</td>\n",
       "    </tr>\n",
       "  </tbody>\n",
       "</table>\n",
       "</div>"
      ],
      "text/plain": [
       "               nombre nacimiento  \\\n",
       "0  Michael Petrovitch       1945   \n",
       "1       Philip Latham       1929   \n",
       "2         Don Fellows       1922   \n",
       "3       Michael Gwynn       1916   \n",
       "4    Nicholas Parsons       1923   \n",
       "\n",
       "                                            conocido  \\\n",
       "0  La banda del zoológico\\n7,5\\nSerie de TV\\nLt. ...   \n",
       "1  Drácula, príncipe de las tinieblas\\n6,6\\nKlove...   \n",
       "2  En busca del arca perdida\\n8,4\\nCol. Musgrove\\...   \n",
       "3    Jasón y los argonautas\\n7,3\\nHermesPriest\\n1963   \n",
       "4           Happy Is the Bride\\n6,9\\nJohn Royd\\n1958   \n",
       "\n",
       "                   ocupacion         premios  \n",
       "0                    Reparto  no tiene Óscar  \n",
       "1                    Reparto  no tiene Óscar  \n",
       "2                    Reparto  no tiene Óscar  \n",
       "3                    Reparto  no tiene Óscar  \n",
       "4  Reparto\\nDirección\\nGuion  no tiene Óscar  "
      ]
     },
     "execution_count": 197,
     "metadata": {},
     "output_type": "execute_result"
    }
   ],
   "source": [
    "df_actores = pd.read_excel(\"detalles_actores.xlsx\")\n",
    "df_actores.head()"
   ]
  },
  {
   "cell_type": "code",
   "execution_count": 198,
   "metadata": {},
   "outputs": [
    {
     "data": {
      "text/plain": [
       "203"
      ]
     },
     "execution_count": 198,
     "metadata": {},
     "output_type": "execute_result"
    }
   ],
   "source": [
    "df_actores.duplicated().sum()"
   ]
  },
  {
   "cell_type": "code",
   "execution_count": 200,
   "metadata": {},
   "outputs": [
    {
     "name": "stdout",
     "output_type": "stream",
     "text": [
      "1181 978\n"
     ]
    }
   ],
   "source": [
    "lista_tuplas_detalles = [tuple(x) for x in df_actores.values]\n",
    "#Primero eliminamos duplicados convirtiendolo en set que quita los repetidos\n",
    "set(lista_tuplas_detalles)\n",
    "print(len(lista_tuplas_detalles), len(set(lista_tuplas_detalles)))"
   ]
  },
  {
   "cell_type": "code",
   "execution_count": 201,
   "metadata": {},
   "outputs": [],
   "source": [
    "lista_tuplas_detalles = list(set(lista_tuplas_detalles))"
   ]
  },
  {
   "cell_type": "code",
   "execution_count": 204,
   "metadata": {},
   "outputs": [
    {
     "name": "stdout",
     "output_type": "stream",
     "text": [
      "978 registros insertados\n"
     ]
    }
   ],
   "source": [
    "cnx = mysql.connector.connect(user = \"root\",\n",
    "                              password = \"AlumnaAdalab\",\n",
    "                              host = \"127.0.0.1\",\n",
    "                              database = \"NETCHILL\")#Nuesta base de datos de mysql\n",
    "#Nos permite enviar informacion atraves de la conexciosm\n",
    "mycursor = cnx.cursor()\n",
    "\n",
    "#¡¡¡El ORDEN IMPORTA!!! --> El primer dato debe ser el primer elemento de la lista de tuplas\n",
    "sql_pelis = \"INSERT INTO Detalles_Actores (nombre, nacimiento, conocido, ocupacion, premios) VALUES (%s, %s, %s, %s, %s)\" \n",
    "                        #peliculas el nombre del archivo correspondiente\n",
    "try:\n",
    "    mycursor.executemany(sql_pelis, lista_tuplas_detalles)\n",
    "    cnx.commit()\n",
    "    print(mycursor.rowcount,\"registros insertados\")\n",
    "except mysql.connector.Error as err:\n",
    "\n",
    "  # si es un error con la contraseña devuelveme un mensaje de acceso denegado ya que tenemos problemas con la contraseña\n",
    "  if err.errno == errorcode.ER_ACCESS_DENIED_ERROR:\n",
    "    print(\"Something is wrong with your user name or password\")\n",
    "  \n",
    "  # si el error no tiene que ver con la contraseña, puede ser porque la base de datos no exista, devuelveme un mensaje de que la base de datos no existe\n",
    "  elif err.errno == errorcode.ER_BAD_DB_ERROR:\n",
    "    print(\"Database does not exist\")\n",
    "  \n",
    "  # si no es por ninguno de los errores anteriores, printeame cual es el error que estoy teniendo en mi conexión\n",
    "  else:\n",
    "    print(err)"
   ]
  },
  {
   "cell_type": "code",
   "execution_count": 205,
   "metadata": {},
   "outputs": [],
   "source": [
    "cnx.close()"
   ]
  }
 ],
 "metadata": {
  "kernelspec": {
   "display_name": "base",
   "language": "python",
   "name": "python3"
  },
  "language_info": {
   "codemirror_mode": {
    "name": "ipython",
    "version": 3
   },
   "file_extension": ".py",
   "mimetype": "text/x-python",
   "name": "python",
   "nbconvert_exporter": "python",
   "pygments_lexer": "ipython3",
   "version": "3.11.4"
  }
 },
 "nbformat": 4,
 "nbformat_minor": 2
}
