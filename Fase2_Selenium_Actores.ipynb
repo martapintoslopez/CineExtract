{
 "cells": [
  {
   "cell_type": "code",
   "execution_count": null,
   "metadata": {},
   "outputs": [],
   "source": [
    "!pip install selenium\n",
    "!pip install webdriver-manager"
   ]
  },
  {
   "cell_type": "code",
   "execution_count": null,
   "metadata": {},
   "outputs": [],
   "source": [
    "from selenium import webdriver \n",
    "from webdriver_manager.chrome import ChromeDriverManager\n",
    "from selenium.webdriver.common.keys import Keys\n",
    "from selenium.webdriver.support.ui import Select\n",
    "from datetime import datetime\n",
    "from time import sleep"
   ]
  },
  {
   "cell_type": "code",
   "execution_count": null,
   "metadata": {},
   "outputs": [],
   "source": [
    "import requests\n",
    "import pandas as pd"
   ]
  },
  {
   "cell_type": "code",
   "execution_count": null,
   "metadata": {},
   "outputs": [],
   "source": [
    "driver = webdriver.Chrome()\n",
    "driver.maximize_window()\n",
    "sleep(2)\n",
    "lista_tupla = []\n",
    "url = \"https://www.imdb.com/\"\n",
    "sleep(2)\n",
    "driver.get(url)\n",
    "\n",
    "eleccion_peli = \"tt0068494\"\n",
    "sleep(2)\n",
    "driver.find_element(\"css selector\", \"#suggestion-search\").send_keys(eleccion_peli, Keys.ENTER)\n",
    "\n",
    "#Puntuación IMBD\n",
    "puntuacion = driver.find_element(\"css selector\", \"#__next > main > div > section.ipc-page-background.ipc-page-background--base.sc-304f99f6-0.eaRXHu > section > div:nth-child(4) > section > section > div.sc-e226b0e3-3.jJsEuz > div.sc-3a4309f8-0.fjtZsE.sc-dffc6c81-1.fJrHDo > div > div:nth-child(1) > a > span > div > div.sc-bde20123-0.gtEgaf > div.sc-bde20123-2.gYgHoj > span.sc-bde20123-1.iZlgcd\").text\n",
    "\n",
    "direccion = driver.find_element(\"css selector\", \"#__next > main > div > section.ipc-page-background.ipc-page-background--base.sc-304f99f6-0.eaRXHu > section > div:nth-child(4) > section > section > div.sc-e226b0e3-4.fjlSjH > div.sc-e226b0e3-6.ktaZPG > div.sc-e226b0e3-10.bALQos > section > div.sc-dffc6c81-3.jFHENY > div > ul > li:nth-child(1) > div\").text\n",
    "\n",
    "guionistas = driver.find_element(\"css selector\", \"#__next > main > div > section.ipc-page-background.ipc-page-background--base.sc-304f99f6-0.eaRXHu > section > div:nth-child(4) > section > section > div.sc-e226b0e3-4.fjlSjH > div.sc-e226b0e3-6.ktaZPG > div.sc-e226b0e3-10.bALQos > section > div.sc-dffc6c81-3.jFHENY > div > ul > li:nth-child(2) > div\").text\n",
    "sleep(4)\n",
    "argumento = driver.find_element(\"css selector\", \"#__next > main > div > section.ipc-page-background.ipc-page-background--base.sc-304f99f6-0.eaRXHu > section > div:nth-child(4) > section > section > div.sc-e226b0e3-4.fjlSjH > div.sc-e226b0e3-6.ktaZPG > div.sc-e226b0e3-10.bALQos > section > p\").text\n",
    "\n",
    "#argumento2 = driver.find_element('css selector','#__next > main > div > section.ipc-page-background.ipc-page-background--base.sc-304f99f6-0.eaRXHu > div > section > div > div.sc-9178d6fe-1.kFxVZc.ipc-page-grid__item.ipc-page-grid__item--span-2 > section:nth-child(16) > div.sc-ab73d3b3-0.jCFAZd > div.ipc-overflowText.ipc-overflowText--pageSection.ipc-overflowText--base > div > div > div').text\n",
    "#tt0068494 --> Duracion R --> COGER DE NUEVO EL ENLACITO\n",
    "duracion = driver.find_element(\"css selector\", \"#__next > main > div > section.ipc-page-background.ipc-page-background--base.sc-304f99f6-0.eaRXHu > section > div:nth-child(4) > section > section > div.sc-e226b0e3-3.jJsEuz > div.sc-dffc6c81-0.iwmAVw > ul > li:nth-child(2)\").text\n",
    "#FALTA NOMBRE\n",
    "nombre = driver.find_element('css selector','#__next > main > div > section.ipc-page-background.ipc-page-background--base.sc-304f99f6-0.eaRXHu > section > div:nth-child(4) > section > section > div.sc-e226b0e3-3.jJsEuz > div.sc-dffc6c81-0.iwmAVw > h1 > span').text\n",
    "tupla_peli = (nombre,puntuacion,direccion,guionistas,argumento,duracion)\n",
    "lista_tupla.append(tupla_peli)\n",
    "#print(argumento2)\n",
    "print(lista_tupla)\n",
    "nombre = driver.find_element('css selector','#__next > main > div > section.ipc-page-background.ipc-page-background--base.sc-304f99f6-0.eaRXHu > section > div:nth-child(4) > section > section > div.sc-e226b0e3-3.jJsEuz > div.sc-dffc6c81-0.iwmAVw > h1 > span').text\n",
    "duracion = driver.find_element('css selector','#__next > main > div > section.ipc-page-background.ipc-page-background--base.sc-304f99f6-0.eaRXHu > section > div:nth-child(4) > section > section > div.sc-e226b0e3-3.jJsEuz > div.sc-dffc6c81-0.iwmAVw > ul > li:nth-child(2)').text\n",
    "print(duracion)"
   ]
  }
 ],
 "metadata": {
  "language_info": {
   "name": "python"
  }
 },
 "nbformat": 4,
 "nbformat_minor": 2
}
